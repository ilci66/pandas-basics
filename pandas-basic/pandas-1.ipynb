{
 "cells": [
  {
   "cell_type": "code",
   "execution_count": 2,
   "id": "76e12416",
   "metadata": {},
   "outputs": [
    {
     "name": "stdout",
     "output_type": "stream",
     "text": [
      "   #                       Name Type 1  Type 2  Total  HP  Attack  Defense  \\\n",
      "0  1                  Bulbasaur  Grass  Poison    318  45      49       49   \n",
      "1  2                    Ivysaur  Grass  Poison    405  60      62       63   \n",
      "2  3                   Venusaur  Grass  Poison    525  80      82       83   \n",
      "3  3      VenusaurMega Venusaur  Grass  Poison    625  80     100      123   \n",
      "4  4                 Charmander   Fire     NaN    309  39      52       43   \n",
      "5  5                 Charmeleon   Fire     NaN    405  58      64       58   \n",
      "6  6                  Charizard   Fire  Flying    534  78      84       78   \n",
      "7  6  CharizardMega Charizard X   Fire  Dragon    634  78     130      111   \n",
      "8  6  CharizardMega Charizard Y   Fire  Flying    634  78     104       78   \n",
      "9  7                   Squirtle  Water     NaN    314  44      48       65   \n",
      "\n",
      "   Sp. Atk  Sp. Def  Speed  Generation  Legendary  \n",
      "0       65       65     45           1      False  \n",
      "1       80       80     60           1      False  \n",
      "2      100      100     80           1      False  \n",
      "3      122      120     80           1      False  \n",
      "4       60       50     65           1      False  \n",
      "5       80       65     80           1      False  \n",
      "6      109       85    100           1      False  \n",
      "7      130       85    100           1      False  \n",
      "8      159      115    100           1      False  \n",
      "9       50       64     43           1      False  \n"
     ]
    }
   ],
   "source": [
    "import pandas as pd\n",
    "pokemon = pd.read_csv('C:/Users/SAMSUNG/desktop/data-files/pokemon.csv')\n",
    "print(pokemon.head(10))"
   ]
  },
  {
   "cell_type": "code",
   "execution_count": 3,
   "id": "32b49be4",
   "metadata": {},
   "outputs": [
    {
     "name": "stdout",
     "output_type": "stream",
     "text": [
      "       #                 Name   Type 1  Type 2  Total   HP  Attack  Defense  \\\n",
      "790  714               Noibat   Flying  Dragon    245   40      30       35   \n",
      "791  715              Noivern   Flying  Dragon    535   85      70       80   \n",
      "792  716              Xerneas    Fairy     NaN    680  126     131       95   \n",
      "793  717              Yveltal     Dark  Flying    680  126     131       95   \n",
      "794  718     Zygarde50% Forme   Dragon  Ground    600  108     100      121   \n",
      "795  719              Diancie     Rock   Fairy    600   50     100      150   \n",
      "796  719  DiancieMega Diancie     Rock   Fairy    700   50     160      110   \n",
      "797  720  HoopaHoopa Confined  Psychic   Ghost    600   80     110       60   \n",
      "798  720   HoopaHoopa Unbound  Psychic    Dark    680   80     160       60   \n",
      "799  721            Volcanion     Fire   Water    600   80     110      120   \n",
      "\n",
      "     Sp. Atk  Sp. Def  Speed  Generation  Legendary  \n",
      "790       45       40     55           6      False  \n",
      "791       97       80    123           6      False  \n",
      "792      131       98     99           6       True  \n",
      "793      131       98     99           6       True  \n",
      "794       81       95     95           6       True  \n",
      "795      100      150     50           6       True  \n",
      "796      160      110    110           6       True  \n",
      "797      150      130     70           6       True  \n",
      "798      170      130     80           6       True  \n",
      "799      130       90     70           6       True  \n"
     ]
    }
   ],
   "source": [
    "print(pokemon.tail(10))"
   ]
  },
  {
   "cell_type": "code",
   "execution_count": 4,
   "id": "b2d9f8d1",
   "metadata": {},
   "outputs": [
    {
     "name": "stdout",
     "output_type": "stream",
     "text": [
      "#              int64\n",
      "Name          object\n",
      "Type 1        object\n",
      "Type 2        object\n",
      "Total          int64\n",
      "HP             int64\n",
      "Attack         int64\n",
      "Defense        int64\n",
      "Sp. Atk        int64\n",
      "Sp. Def        int64\n",
      "Speed          int64\n",
      "Generation     int64\n",
      "Legendary       bool\n",
      "dtype: object\n"
     ]
    }
   ],
   "source": [
    "print(pokemon.dtypes)\n",
    "# Strings appear as object, kinda odd"
   ]
  },
  {
   "cell_type": "code",
   "execution_count": 5,
   "id": "82889f77",
   "metadata": {},
   "outputs": [
    {
     "name": "stdout",
     "output_type": "stream",
     "text": [
      "<class 'pandas.core.frame.DataFrame'>\n",
      "RangeIndex: 800 entries, 0 to 799\n",
      "Data columns (total 13 columns):\n",
      " #   Column      Non-Null Count  Dtype \n",
      "---  ------      --------------  ----- \n",
      " 0   #           800 non-null    int64 \n",
      " 1   Name        800 non-null    object\n",
      " 2   Type 1      800 non-null    object\n",
      " 3   Type 2      414 non-null    object\n",
      " 4   Total       800 non-null    int64 \n",
      " 5   HP          800 non-null    int64 \n",
      " 6   Attack      800 non-null    int64 \n",
      " 7   Defense     800 non-null    int64 \n",
      " 8   Sp. Atk     800 non-null    int64 \n",
      " 9   Sp. Def     800 non-null    int64 \n",
      " 10  Speed       800 non-null    int64 \n",
      " 11  Generation  800 non-null    int64 \n",
      " 12  Legendary   800 non-null    bool  \n",
      "dtypes: bool(1), int64(9), object(3)\n",
      "memory usage: 75.9+ KB\n"
     ]
    }
   ],
   "source": [
    "# pokemon.to_excel(\"pokemon.xlsx\", sheet_name=\"catchemall\", index=False)\n",
    "# with this method I could create an excel file from this data with, with the name 'catchemall'\n",
    "\n",
    "# Use info method for a techinal summary\n",
    "pokemon.info()\n",
    "\n",
    "# it is indeed a DataFrame"
   ]
  },
  {
   "cell_type": "markdown",
   "id": "aded94eb",
   "metadata": {},
   "source": [
    "\n",
    "\n",
    "    Getting data in to pandas from many different file formats or data sources is supported by read_* functions.\n",
    "\n",
    "    Exporting data out of pandas is provided by different to_*methods.\n",
    "\n",
    "    The head/tail/info methods and the dtypes attribute are convenient for a first check.\n"
   ]
  },
  {
   "cell_type": "code",
   "execution_count": 7,
   "id": "28ae06f8",
   "metadata": {},
   "outputs": [
    {
     "name": "stdout",
     "output_type": "stream",
     "text": [
      "0                Bulbasaur\n",
      "1                  Ivysaur\n",
      "2                 Venusaur\n",
      "3    VenusaurMega Venusaur\n",
      "4               Charmander\n",
      "Name: Name, dtype: object\n",
      "0    Grass\n",
      "1    Grass\n",
      "2    Grass\n",
      "3    Grass\n",
      "4     Fire\n",
      "Name: Type 1, dtype: object\n"
     ]
    }
   ],
   "source": [
    "first_types = pokemon[\"Type 1\"]\n",
    "names = pokemon[\"Name\"]\n",
    "\n",
    "print(names.head())\n",
    "print(first_types.head())"
   ]
  },
  {
   "cell_type": "code",
   "execution_count": 8,
   "id": "2ba31f90",
   "metadata": {},
   "outputs": [
    {
     "data": {
      "text/plain": [
       "pandas.core.series.Series"
      ]
     },
     "execution_count": 8,
     "metadata": {},
     "output_type": "execute_result"
    }
   ],
   "source": [
    "type(names)"
   ]
  },
  {
   "cell_type": "markdown",
   "id": "e38333f5",
   "metadata": {},
   "source": [
    "Each column in a DataFrame is a Series. As a single column is selected, the returned object is a pandas Series. "
   ]
  },
  {
   "cell_type": "code",
   "execution_count": 9,
   "id": "6b04c367",
   "metadata": {},
   "outputs": [
    {
     "data": {
      "text/plain": [
       "(800,)"
      ]
     },
     "execution_count": 9,
     "metadata": {},
     "output_type": "execute_result"
    }
   ],
   "source": [
    "names.shape"
   ]
  },
  {
   "cell_type": "code",
   "execution_count": 10,
   "id": "c352d25f",
   "metadata": {},
   "outputs": [
    {
     "name": "stdout",
     "output_type": "stream",
     "text": [
      "   HP  Attack\n",
      "0  45      49\n",
      "1  60      62\n",
      "2  80      82\n",
      "3  80     100\n",
      "4  39      52\n",
      "5  58      64\n",
      "6  78      84\n",
      "7  78     130\n",
      "8  78     104\n",
      "9  44      48\n"
     ]
    }
   ],
   "source": [
    "hp_attack = pokemon[[\"HP\", \"Attack\"]]\n",
    "print(hp_attack.head(10))"
   ]
  },
  {
   "cell_type": "code",
   "execution_count": 11,
   "id": "dc183156",
   "metadata": {},
   "outputs": [
    {
     "data": {
      "text/plain": [
       "pandas.core.frame.DataFrame"
      ]
     },
     "execution_count": 11,
     "metadata": {},
     "output_type": "execute_result"
    }
   ],
   "source": [
    "type(hp_attack)"
   ]
  },
  {
   "cell_type": "code",
   "execution_count": 12,
   "id": "0fd82709",
   "metadata": {},
   "outputs": [
    {
     "data": {
      "text/plain": [
       "(800, 2)"
      ]
     },
     "execution_count": 12,
     "metadata": {},
     "output_type": "execute_result"
    }
   ],
   "source": [
    "hp_attack.shape"
   ]
  },
  {
   "cell_type": "markdown",
   "id": "13f19915",
   "metadata": {},
   "source": [
    "    800 rows and 2 columns, keep up!"
   ]
  },
  {
   "cell_type": "code",
   "execution_count": 16,
   "id": "eb5f03b6",
   "metadata": {},
   "outputs": [],
   "source": [
    "# easy filtering \n",
    "hp_above_75 = pokemon[\"HP\"] > 75"
   ]
  }
 ],
 "metadata": {
  "kernelspec": {
   "display_name": "Python 3 (ipykernel)",
   "language": "python",
   "name": "python3"
  },
  "language_info": {
   "codemirror_mode": {
    "name": "ipython",
    "version": 3
   },
   "file_extension": ".py",
   "mimetype": "text/x-python",
   "name": "python",
   "nbconvert_exporter": "python",
   "pygments_lexer": "ipython3",
   "version": "3.7.3"
  }
 },
 "nbformat": 4,
 "nbformat_minor": 5
}
